{
 "cells": [
  {
   "metadata": {},
   "cell_type": "markdown",
   "source": "# Read file input.txt",
   "id": "bf4e60e10ae880f2"
  },
  {
   "cell_type": "code",
   "id": "initial_id",
   "metadata": {
    "collapsed": true,
    "ExecuteTime": {
     "end_time": "2024-10-30T10:02:07.194701Z",
     "start_time": "2024-10-30T10:02:07.149733Z"
    }
   },
   "source": [
    "def read_file(file_name):\n",
    "    with open(file_name, 'r') as f:\n",
    "        N = int(f.readline().strip())\n",
    "        S, E, strategy = map(int, f.readline().strip().split())\n",
    "        \n",
    "        directed_graph = []\n",
    "        \n",
    "        for i in range(N):\n",
    "            row = list(map(int, f.readline().strip().split()))\n",
    "            directed_graph.append(row)\n",
    "        \n",
    "        return N, S, E, strategy, directed_graph"
   ],
   "outputs": [],
   "execution_count": 13
  },
  {
   "metadata": {
    "ExecuteTime": {
     "end_time": "2024-10-30T10:02:08.240458Z",
     "start_time": "2024-10-30T10:02:08.233173Z"
    }
   },
   "cell_type": "code",
   "source": "",
   "id": "334d415f57cbecc7",
   "outputs": [
    {
     "name": "stdout",
     "output_type": "stream",
     "text": [
      "5 0 3 0 [[0, 2, 0, 0, 1], [0, 0, 5, 0, 6], [0, 0, 0, 3, 0], [0, 1, 0, 0, 0], [0, 0, 0, 1, 0]]\n"
     ]
    }
   ],
   "execution_count": 14
  },
  {
   "metadata": {
    "ExecuteTime": {
     "end_time": "2024-10-30T10:46:12.846169Z",
     "start_time": "2024-10-30T10:46:12.835768Z"
    }
   },
   "cell_type": "code",
   "source": [
    "def bfs(S, E, graph):\n",
    "    print('bfs')\n",
    "    \n",
    "    # Initialize a queue and enqueue the start_node \n",
    "    queue = [S]\n",
    "    \n",
    "    #  Initialize an empty Set called visited to keep track of visited nodes (tracking index of node)\n",
    "    visited = set()\n",
    "    \n",
    "    # thu tu cac node duoc mo\n",
    "    node_list = []\n",
    "        \n",
    "    while queue:\n",
    "        # Dequeue a node from the queue\n",
    "        current_node = queue.pop(0)\n",
    "        node_list.append(current_node)\n",
    "\n",
    "        vertex = 0\n",
    "        for neighbor in graph[current_node]:\n",
    "            if vertex not in visited and neighbor > 0:\n",
    "                queue.append(vertex)\n",
    "                if vertex == E:\n",
    "                    print (f'{S} {visited} {E}')\n",
    "                    print(node_list)\n",
    "                    return\n",
    "                visited.add(vertex)\n",
    "            vertex += 1\n",
    "            \n",
    "N, S, E, strategy, directed_graph = read_file('input.txt')\n",
    "print(N, S, E, strategy, directed_graph)\n",
    "bfs(S, E, directed_graph)"
   ],
   "id": "439c8cf4804d5ff4",
   "outputs": [
    {
     "name": "stdout",
     "output_type": "stream",
     "text": [
      "5 0 3 0 [[0, 2, 0, 0, 1], [0, 0, 5, 0, 6], [0, 0, 0, 3, 0], [0, 1, 0, 0, 0], [0, 0, 0, 1, 0]]\n",
      "bfs\n",
      "0 {1, 2, 4} 3\n",
      "[0, 1, 4]\n"
     ]
    }
   ],
   "execution_count": 58
  },
  {
   "metadata": {
    "ExecuteTime": {
     "end_time": "2024-10-30T10:10:07.186897Z",
     "start_time": "2024-10-30T10:10:07.178710Z"
    }
   },
   "cell_type": "code",
   "source": [
    "def dfs(S, E, graph):\n",
    "    print('dfs')\n",
    "    pass"
   ],
   "id": "71d27f386db32ce0",
   "outputs": [],
   "execution_count": 15
  },
  {
   "metadata": {
    "ExecuteTime": {
     "end_time": "2024-10-30T10:10:16.908091Z",
     "start_time": "2024-10-30T10:10:16.897717Z"
    }
   },
   "cell_type": "code",
   "source": [
    "def ucs(S, E, graph):\n",
    "    print('ucs')\n",
    "    pass"
   ],
   "id": "a3c255958faf3c6e",
   "outputs": [],
   "execution_count": 17
  },
  {
   "metadata": {
    "ExecuteTime": {
     "end_time": "2024-10-30T10:12:48.478834Z",
     "start_time": "2024-10-30T10:12:48.467864Z"
    }
   },
   "cell_type": "code",
   "source": [
    "def handle_strategy(strategy, S, E, graph):\n",
    "    switch = {\n",
    "        0: bfs,\n",
    "        1: dfs,\n",
    "        2: ucs\n",
    "    }\n",
    "\n",
    "    func = switch.get(strategy)\n",
    "    if func:\n",
    "        return func(S, E, graph)\n",
    "    else:\n",
    "        return 'Invalid strategy'"
   ],
   "id": "deb0ac224332bdf9",
   "outputs": [],
   "execution_count": 29
  },
  {
   "metadata": {
    "ExecuteTime": {
     "end_time": "2024-10-30T10:13:11.141789Z",
     "start_time": "2024-10-30T10:13:11.134722Z"
    }
   },
   "cell_type": "code",
   "source": [
    "N, S, E, strategy, directed_graph = read_file('input.txt')\n",
    "print(N, S, E, strategy, directed_graph)\n",
    "handle_strategy(strategy, S, E, directed_graph)"
   ],
   "id": "d51ee1bebc3d3bfa",
   "outputs": [
    {
     "name": "stdout",
     "output_type": "stream",
     "text": [
      "5 0 3 0 [[0, 2, 0, 0, 1], [0, 0, 5, 0, 6], [0, 0, 0, 3, 0], [0, 1, 0, 0, 0], [0, 0, 0, 1, 0]]\n",
      "bfs\n"
     ]
    }
   ],
   "execution_count": 32
  },
  {
   "metadata": {},
   "cell_type": "code",
   "outputs": [],
   "execution_count": null,
   "source": "",
   "id": "2e3b510dfd142bc1"
  }
 ],
 "metadata": {
  "kernelspec": {
   "display_name": "Python 3",
   "language": "python",
   "name": "python3"
  },
  "language_info": {
   "codemirror_mode": {
    "name": "ipython",
    "version": 2
   },
   "file_extension": ".py",
   "mimetype": "text/x-python",
   "name": "python",
   "nbconvert_exporter": "python",
   "pygments_lexer": "ipython2",
   "version": "2.7.6"
  }
 },
 "nbformat": 4,
 "nbformat_minor": 5
}
